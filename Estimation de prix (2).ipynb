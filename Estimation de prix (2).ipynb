{
 "cells": [
  {
   "cell_type": "code",
   "execution_count": null,
   "id": "4bc05eb7",
   "metadata": {
    "scrolled": true
   },
   "outputs": [],
   "source": [
    "import pandas as pd\n",
    "df = pd.read_csv ('data.csv')\n",
    "df.head()"
   ]
  },
  {
   "cell_type": "code",
   "execution_count": null,
   "id": "72a03ac3",
   "metadata": {},
   "outputs": [],
   "source": [
    "df = df[df.Surface != 'None']\n",
    "nb_pieces = df['Pièces'].str.split(' ').str.get(0).astype(int)\n",
    "df['nb_pieces'] = nb_pieces\n",
    "nb_chambres = df['Chambres'].str.split(' ').str.get(0).astype(int)\n",
    "df['nb_chambres'] = nb_chambres\n",
    "nb_salles_bain = df['Salles_bain'].str.split(' ').str.get(0).astype(int)\n",
    "df['nb_salles_bain'] = nb_salles_bain\n",
    "Surface_metre_carre = df['Surface'].str.split(' ').str.get(0)\n",
    "df['Surface_metre_carre'] = Surface_metre_carre.astype(int)\n",
    "df['Prix'] = df['Prix'].str.replace('\\xa0', '').astype(int)\n",
    "df['Ville'] = df['Adresse'].str.split().str.get(-1)\n",
    "df.head()"
   ]
  },
  {
   "cell_type": "code",
   "execution_count": null,
   "id": "2fdbe49d",
   "metadata": {},
   "outputs": [],
   "source": [
    "from sklearn.preprocessing import LabelEncoder\n",
    "le = LabelEncoder()\n",
    "lee = LabelEncoder()\n",
    "df['Id_ville']  = 1+le.fit_transform(df.Ville)\n",
    "df['Id_type']  = 1+lee.fit_transform(df.Type)\n",
    "df"
   ]
  },
  {
   "cell_type": "code",
   "execution_count": null,
   "id": "8b748720",
   "metadata": {},
   "outputs": [],
   "source": [
    "from sklearn import preprocessing\n",
    "import numpy as np \n",
    "from sklearn.model_selection import train_test_split \n",
    "import matplotlib.pyplot as plt \n",
    "%matplotlib inline "
   ]
  },
  {
   "cell_type": "code",
   "execution_count": null,
   "id": "b634d2cd",
   "metadata": {},
   "outputs": [],
   "source": [
    "X= df[['Id_type','Surface_metre_carre','Id_ville','nb_pieces','nb_chambres','nb_salles_bain']] \n",
    "y= df.Prix\n",
    "X_train, X_test, y_train, y_test = train_test_split(X,y,shuffle=True) "
   ]
  },
  {
   "cell_type": "code",
   "execution_count": null,
   "id": "8db19d43",
   "metadata": {},
   "outputs": [],
   "source": [
    "from sklearn.linear_model import LinearRegression \n",
    "model = LinearRegression() \n",
    "model.fit(X_train,y_train) "
   ]
  },
  {
   "cell_type": "code",
   "execution_count": null,
   "id": "5d6c651f",
   "metadata": {},
   "outputs": [],
   "source": [
    "predection = model.predict(X_test)"
   ]
  },
  {
   "cell_type": "code",
   "execution_count": 165,
   "id": "eca1aaf4",
   "metadata": {},
   "outputs": [
    {
     "data": {
      "text/plain": [
       "[<matplotlib.lines.Line2D at 0x217cecf01f0>]"
      ]
     },
     "execution_count": 165,
     "metadata": {},
     "output_type": "execute_result"
    },
    {
     "data": {
      "image/png": "[encoded data removed]",
      "text/plain": [
       "<Figure size 720x504 with 1 Axes>"
      ]
     },
     "metadata": {
      "needs_background": "light"
     },
     "output_type": "display_data"
    }
   ],
   "source": [
    "plt.figure(figsize=(10,7)) \n",
    "plt.scatter(y_test , predection)\n",
    "plt.plot(y_test , y_test,color='g')"
   ]
  },
  {
   "cell_type": "code",
   "execution_count": 157,
   "id": "05abbd92",
   "metadata": {},
   "outputs": [
    {
     "data": {
      "text/plain": [
       "6565375.562739314"
      ]
     },
     "execution_count": 157,
     "metadata": {},
     "output_type": "execute_result"
    }
   ],
   "source": [
    "from sklearn import metrics \n",
    "mean_sq_err = metrics.mean_squared_error(y_test , predection) \n",
    "RMSE = np.sqrt(mean_sq_err) \n",
    "RMSE"
   ]
  },
  {
   "cell_type": "code",
   "execution_count": 148,
   "id": "6ae190cd",
   "metadata": {},
   "outputs": [],
   "source": [
    "X2= df[['Id_type','Surface_metre_carre','Id_ville','nb_chambres','nb_salles_bain']] \n",
    "y2= df.Prix\n",
    "X2_train, X2_test, y2_train, y2_test = train_test_split(X2,y2,shuffle=True) \n"
   ]
  },
  {
   "cell_type": "code",
   "execution_count": 149,
   "id": "26a98fcd",
   "metadata": {},
   "outputs": [
    {
     "data": {
      "text/plain": [
       "LinearRegression()"
      ]
     },
     "execution_count": 149,
     "metadata": {},
     "output_type": "execute_result"
    }
   ],
   "source": [
    "model2 = LinearRegression() \n",
    "model2.fit(X2_train,y2_train) "
   ]
  },
  {
   "cell_type": "code",
   "execution_count": 150,
   "id": "cee85ccd",
   "metadata": {},
   "outputs": [],
   "source": [
    "predection2 = model2.predict(X2_test)"
   ]
  },
  {
   "cell_type": "code",
   "execution_count": 166,
   "id": "8cf434f8",
   "metadata": {},
   "outputs": [
    {
     "data": {
      "text/plain": [
       "<matplotlib.collections.PathCollection at 0x217cedf0cd0>"
      ]
     },
     "execution_count": 166,
     "metadata": {},
     "output_type": "execute_result"
    },
    {
     "data": {
      "image/png": "[encoded data removed]",
      "text/plain": [
       "<Figure size 720x504 with 1 Axes>"
      ]
     },
     "metadata": {
      "needs_background": "light"
     },
     "output_type": "display_data"
    }
   ],
   "source": [
    "plt.figure(figsize=(10,7)) \n",
    "plt.scatter(y2_test , predection2) "
   ]
  },
  {
   "cell_type": "code",
   "execution_count": 152,
   "id": "8e854740",
   "metadata": {},
   "outputs": [
    {
     "data": {
      "text/plain": [
       "13912594.932500187"
      ]
     },
     "execution_count": 152,
     "metadata": {},
     "output_type": "execute_result"
    }
   ],
   "source": [
    "mean_sq_err2 = metrics.mean_squared_error(y2_test , predection2) \n",
    "RMSE2 = np.sqrt(mean_sq_err2) \n",
    "RMSE2"
   ]
  },
  {
   "cell_type": "code",
   "execution_count": null,
   "id": "a9ed78a6",
   "metadata": {},
   "outputs": [],
   "source": []
  },
  {
   "cell_type": "code",
   "execution_count": null,
   "id": "40d92db8",
   "metadata": {},
   "outputs": [],
   "source": []
  }
 ],
 "metadata": {
  "kernelspec": {
   "display_name": "Python 3",
   "language": "python",
   "name": "python3"
  },
  "language_info": {
   "codemirror_mode": {
    "name": "ipython",
    "version": 3
   },
   "file_extension": ".py",
   "mimetype": "text/x-python",
   "name": "python",
   "nbconvert_exporter": "python",
   "pygments_lexer": "ipython3",
   "version": "3.9.5"
  }
 },
 "nbformat": 4,
 "nbformat_minor": 5
}
